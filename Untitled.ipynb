{
 "cells": [
  {
   "cell_type": "markdown",
   "metadata": {},
   "source": [
    "Веб-страница\n",
    "\n",
    "* html-код (голый текст с разметкой)\n",
    "* css-файл (cascading stylesheet)\n",
    "* javascript (интерактив)"
   ]
  },
  {
   "cell_type": "code",
   "execution_count": null,
   "metadata": {},
   "outputs": [],
   "source": [
    "<tr></tr> - для строки в таблице\n",
    "<th></th> - для ячейки в шапке таблицы\n",
    "<td></td> - для обычной ячейки в таблице"
   ]
  }
 ],
 "metadata": {
  "kernelspec": {
   "display_name": "Python 3",
   "language": "python",
   "name": "python3"
  },
  "language_info": {
   "codemirror_mode": {
    "name": "ipython",
    "version": 3
   },
   "file_extension": ".py",
   "mimetype": "text/x-python",
   "name": "python",
   "nbconvert_exporter": "python",
   "pygments_lexer": "ipython3",
   "version": "3.6.8"
  }
 },
 "nbformat": 4,
 "nbformat_minor": 2
}
