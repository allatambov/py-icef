{
 "cells": [
  {
   "cell_type": "markdown",
   "metadata": {},
   "source": [
    "## Python для сбора данных\n",
    "\n",
    "*Алла Тамбовцева, НИУ ВШЭ*"
   ]
  },
  {
   "cell_type": "markdown",
   "metadata": {},
   "source": [
    "### Практикум 2: условные конструкции и циклы"
   ]
  },
  {
   "cell_type": "markdown",
   "metadata": {},
   "source": [
    "### Задача 1\n",
    "Напишите программу, которая просит пользователя ввести положительное число, и если пользователь вводит положительное число, выводит на экран сообщение \"Молодец!\", если нет – \"Это не положительное число.\".\n",
    "\n",
    "Считайте, что пользователь в любом случае вводит числа, а не какой-то текст."
   ]
  },
  {
   "cell_type": "code",
   "execution_count": 1,
   "metadata": {},
   "outputs": [
    {
     "name": "stdout",
     "output_type": "stream",
     "text": [
      "Введите положительное число: 7\n",
      "Молодец!\n"
     ]
    }
   ],
   "source": [
    "n = float(input(\"Введите положительное число: \"))\n",
    "if n > 0:\n",
    "    print(\"Молодец!\")\n",
    "else:\n",
    "    print(\"Это не положительное число.\")"
   ]
  },
  {
   "cell_type": "markdown",
   "metadata": {},
   "source": [
    "### Задача 2\n",
    "\n",
    "Напишите программу, которая запрашивает у пользователя пароль, и далее:\n",
    "\n",
    "* если пароль верный, выводит на экран сообщение \"Login success\".\n",
    "* если пароль неверный, выводит на экран сообщение \"Incorrect \n",
    "password, try again!\" до тех пор, пока пользователь не введет верный пароль."
   ]
  },
  {
   "cell_type": "code",
   "execution_count": 6,
   "metadata": {},
   "outputs": [
    {
     "name": "stdout",
     "output_type": "stream",
     "text": [
      "Enter password.q\n",
      "Incorrect password, try again!\n",
      "Enter password.querty123\n",
      "Login success.\n"
     ]
    }
   ],
   "source": [
    "password = \"querty123\"\n",
    "\n",
    "while True:\n",
    "    attempt = input(\"Enter password.\")\n",
    "    if attempt == password:\n",
    "        print(\"Login success.\")\n",
    "        break\n",
    "    else:\n",
    "        print(\"Incorrect password, try again!\")"
   ]
  },
  {
   "cell_type": "markdown",
   "metadata": {},
   "source": [
    "### Задача 3\n",
    "\n",
    "У питона есть набор любимых чисел.\n",
    "\n",
    "    favorites = [3, 7, 11, 23, 18, 48, 81]\n",
    "\n",
    "Напишите программу, которая просит пользователя ввести целое число, и если оно нравится питону, на экран будет выводиться сообщение: \"Мое любимое число!\", если нет ‒ \"Эх, ну почему?\"."
   ]
  },
  {
   "cell_type": "code",
   "execution_count": 7,
   "metadata": {},
   "outputs": [
    {
     "name": "stdout",
     "output_type": "stream",
     "text": [
      "Введите целое число: 6\n",
      "Эх, ну почему?\n"
     ]
    }
   ],
   "source": [
    "favorites = [3, 7, 11, 23, 18, 48, 81]\n",
    "\n",
    "x = int(input(\"Введите целое число: \"))\n",
    "if x in favorites:\n",
    "    print(\"Моё любимое число!\")\n",
    "else:\n",
    "    print(\"Эх, ну почему?\")"
   ]
  },
  {
   "cell_type": "markdown",
   "metadata": {},
   "source": [
    "### Задача 4\n",
    "\n",
    "Напишите программу, которая просит пользователя ввести число и, если оно чётное, выводит на экран сообщение: \"Это число чётное\", если нечётное – \"Это число нечётное\"."
   ]
  },
  {
   "cell_type": "code",
   "execution_count": 8,
   "metadata": {},
   "outputs": [
    {
     "name": "stdout",
     "output_type": "stream",
     "text": [
      "Введите целое число:7\n",
      "Это число нечётное.\n"
     ]
    }
   ],
   "source": [
    "num = int(input(\"Введите целое число:\"))\n",
    "if num % 2 == 0:\n",
    "    print(\"Это число чётное.\")\n",
    "else:\n",
    "    print(\"Это число нечётное.\")"
   ]
  },
  {
   "cell_type": "code",
   "execution_count": 9,
   "metadata": {},
   "outputs": [
    {
     "name": "stdout",
     "output_type": "stream",
     "text": [
      "Введите целое число:7\n",
      "Это число нечётное.\n"
     ]
    }
   ],
   "source": [
    "# альтернативное решение\n",
    "num = int(input(\"Введите целое число:\"))\n",
    "if num // 2 == num / 2:\n",
    "    print(\"Это число чётное.\")\n",
    "else:\n",
    "    print(\"Это число нечётное.\")"
   ]
  },
  {
   "cell_type": "markdown",
   "metadata": {},
   "source": [
    "### Задача 5\n",
    "\n",
    "Напишите программу, которая просит пользователя ввести существительное, и если слово введено с большой буквы, то на экран выводится сообщение \"Это имя собственное.\", если с маленькой – сообщение \"Это имя нарицательное\"."
   ]
  },
  {
   "cell_type": "markdown",
   "metadata": {},
   "source": [
    "*Примечание:* в условии с `if` здесь необязательно писать `== True`, поскольку это предусмотрено по умолчанию (результат применения метода – и так True или False)."
   ]
  },
  {
   "cell_type": "code",
   "execution_count": 10,
   "metadata": {},
   "outputs": [
    {
     "name": "stdout",
     "output_type": "stream",
     "text": [
      "Введите слово: Питон\n",
      "Это имя собственное.\n"
     ]
    }
   ],
   "source": [
    "word = input(\"Введите слово: \")\n",
    "\n",
    "if word.capitalize() == word:\n",
    "    print(\"Это имя собственное.\")\n",
    "else:\n",
    "    print(\"Это имя нарицательное.\")"
   ]
  }
 ],
 "metadata": {
  "kernelspec": {
   "display_name": "Python 3",
   "language": "python",
   "name": "python3"
  },
  "language_info": {
   "codemirror_mode": {
    "name": "ipython",
    "version": 3
   },
   "file_extension": ".py",
   "mimetype": "text/x-python",
   "name": "python",
   "nbconvert_exporter": "python",
   "pygments_lexer": "ipython3",
   "version": "3.6.5"
  }
 },
 "nbformat": 4,
 "nbformat_minor": 2
}
