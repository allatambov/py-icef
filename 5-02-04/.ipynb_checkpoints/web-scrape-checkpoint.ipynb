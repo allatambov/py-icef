{
 "cells": [
  {
   "cell_type": "markdown",
   "metadata": {},
   "source": [
    "# Python для сбора данных\n",
    "\n",
    "*Алла Тамбовцева, НИУ ВШЭ*"
   ]
  },
  {
   "cell_type": "markdown",
   "metadata": {},
   "source": [
    "## Web-scraping\n",
    "\n",
    "Мы уже немного познакомились со структурой html-файлов, теперь попробуем выгрузить информацию из реальной страницы, а точнее, с реального сайта [nplus1.ru](https://nplus1.ru/).\n",
    "\n",
    "**Наша задача:** выгрузить недавние новости в датафрейм `pandas`, чтобы потом сохранить все в csv-файл.\n",
    "\n",
    "Сначала сгрузим весь html-код страницы и сохраним его в отдельную переменную. Для этого нам понадобится библиотека `requests`. Импортируем её:"
   ]
  },
  {
   "cell_type": "code",
   "execution_count": 1,
   "metadata": {},
   "outputs": [],
   "source": [
    "import requests"
   ]
  },
  {
   "cell_type": "markdown",
   "metadata": {},
   "source": [
    "Сохраним ссылку на главную страницу сайта в переменную `url` для удобства и выгрузим страницу. (Разумеется, это будет работать при подключении к интернету. Если соединение будет отключено, Python выдаст `NewConnectionError`)."
   ]
  },
  {
   "cell_type": "code",
   "execution_count": 2,
   "metadata": {},
   "outputs": [],
   "source": [
    "url = 'https://nplus1.ru/' # сохраняем\n",
    "page = requests.get(url) # загружаем страницу по ссылке"
   ]
  },
  {
   "cell_type": "markdown",
   "metadata": {},
   "source": [
    "Если мы просто посмотрим на объект, мы ничего особенного не увидим:"
   ]
  },
  {
   "cell_type": "code",
   "execution_count": 3,
   "metadata": {},
   "outputs": [
    {
     "data": {
      "text/plain": [
       "<Response [200]>"
      ]
     },
     "execution_count": 3,
     "metadata": {},
     "output_type": "execute_result"
    }
   ],
   "source": [
    "page  # response 200 - страница загружена"
   ]
  },
  {
   "cell_type": "markdown",
   "metadata": {},
   "source": [
    "Импортируем функцию `BeautifulSoup` из библиотеки `bs4` (от *beautifulsoup4*) и заберём со страницы `page` код html в виде текста. "
   ]
  },
  {
   "cell_type": "code",
   "execution_count": 3,
   "metadata": {},
   "outputs": [],
   "source": [
    "from bs4 import BeautifulSoup  # не спрашивайте, почему BeautifulSoup"
   ]
  },
  {
   "cell_type": "code",
   "execution_count": 4,
   "metadata": {},
   "outputs": [],
   "source": [
    "soup = BeautifulSoup(page.text, 'lxml')"
   ]
  },
  {
   "cell_type": "markdown",
   "metadata": {},
   "source": [
    "Если выведем `soup` на экран, мы увидим то же самое, что в режиме разработчика или в режиме происмотра исходного кода (`view-source` через *Ctrl+U* в Google Chrome)."
   ]
  },
  {
   "cell_type": "code",
   "execution_count": null,
   "metadata": {},
   "outputs": [],
   "source": [
    "soup"
   ]
  },
  {
   "cell_type": "markdown",
   "metadata": {},
   "source": [
    "Для просмотра выглядит не очень удобно.  «Причешем» наш `soup` – воспользуемся методом `.prettify()` в сочетании с функцией `print()`."
   ]
  },
  {
   "cell_type": "code",
   "execution_count": null,
   "metadata": {},
   "outputs": [],
   "source": [
    "print(soup.prettify())"
   ]
  },
  {
   "cell_type": "markdown",
   "metadata": {},
   "source": [
    "В такой выдаче ориентироваться гораздо удобнее (но при желании, то же можно увидеть в браузере, на большом экране)."
   ]
  },
  {
   "cell_type": "markdown",
   "metadata": {},
   "source": [
    "Чтобы сгрузить все новости с главной страницы сайта, нужно собрать все ссылки на страницы с этими новостями. Ссылки в html-файле всегда заключены в тэг `<a></a>` и имеют атрибут `href`. Посмотрим на кусочки кода, соответствующие всем ссылкам на главной странице сайта:"
   ]
  },
  {
   "cell_type": "code",
   "execution_count": 5,
   "metadata": {},
   "outputs": [
    {
     "name": "stdout",
     "output_type": "stream",
     "text": [
      "#\n",
      "/\n",
      "#\n",
      "#\n",
      "/rubric/astronomy\n",
      "/rubric/physics\n",
      "/rubric/biology\n",
      "/rubric/robots-drones\n",
      "/theme/oops\n",
      "/theme/economy-literature\n",
      "/theme/hayabusa\n",
      "/theme/art-of-integration\n",
      "/\n",
      "#\n",
      "/rubric/astronomy\n",
      "/rubric/physics\n",
      "/rubric/biology\n",
      "/rubric/robots-drones\n",
      "#\n",
      "/theme/oops\n",
      "/theme/economy-literature\n",
      "/theme/hayabusa\n",
      "/theme/art-of-integration\n",
      "https://nplus1.ru/blog/2019/04/03/adventures-in-the-anthropocene\n",
      "https://nplus1.ru/blog/2019/04/03/adventures-in-the-anthropocene\n",
      "https://nplus1.ru/blog/2019/04/02/pompeii-thermopolium\n",
      "https://nplus1.ru/blog/2019/03/29/the-revolutionary-genius-of-plants\n",
      "https://nplus1.ru/blog/2019/03/28/what-about-labioldentals\n",
      "https://nplus1.ru/blog/2019/03/27/five-years-deadline\n",
      "https://nplus1.ru/blog/2019/03/26/limb-183\n",
      "https://nplus1.ru/blog/2019/03/25/ben-franklin-effect\n",
      "https://nplus1.ru/blog/2019/03/22/a-history-of-private-life\n",
      "https://nplus1.ru/blog/2019/03/22/spanish-princess\n",
      "https://nplus1.ru/blog/2019/04/09/game-of-thrones-psychology\n",
      "/news/2019/04/09/ligo-03\n",
      "/news/2019/04/09/fecal-transplant-v-asd\n",
      "/news/2019/04/09/auroras-in-Jupiter\n",
      "/news/2019/04/09/big-Jupiter-in-binary\n",
      "/news/2019/04/09/iron-volcanism\n",
      "/news/2019/04/09/edge-chromium-dev\n",
      "/news/2019/04/09/walking-on-stress-biomarkes\n",
      "/material/2019/04/09/state-information-system\n",
      "/rubric/partners\n",
      "/theme/art-of-integration\n",
      "/news/2019/04/09/robot\n",
      "/news/2019/04/09/wing-approval\n",
      "/news/2019/04/09/brain-sync-in-elderly\n",
      "/news/2019/04/09/drones\n",
      "/news/2019/04/09/psychology-replication\n",
      "/news/2019/04/09/rocket-lab\n",
      "/blog/2019/04/03/adventures-in-the-anthropocene\n",
      "/blog/2019/04/09/game-of-thrones-psychology\n",
      "/news/2019/04/08/myths\n",
      "/rubric/partners\n",
      "/material/2019/04/05/eminence-grise\n",
      "/rubric/partners\n",
      "/news/2019/04/09/jpals\n",
      "/news/2019/04/08/peanuts\n",
      "/news/2019/04/08/digital-beowulf-authorship\n",
      "/news/2019/04/08/guinnes-bubbles\n",
      "/news/2019/04/08/robotic-arm\n",
      "/news/2019/04/08/pyroclastic-flow\n",
      "/blog/2019/03/29/the-revolutionary-genius-of-plants\n",
      "/blog/2019/04/02/pompeii-thermopolium\n",
      "/material/2019/04/07/black-hole-photo\n",
      "/rubric/astronomy\n",
      "/material/2019/04/04/animals-vegs\n",
      "/rubric/biology\n",
      "/material/2019/04/05/eminence-grise\n",
      "/news/2019/04/03/bose-fermi-soliton\n",
      "/news/2019/04/02/phase-language\n",
      "/news/2019/04/05/electrolyte-conductivity\n",
      "/news/2019/04/08/guinnes-bubbles\n",
      "/news/2019/04/08/myths\n",
      "/news/2019/04/08/tidal-signal\n",
      "/news/2019/04/02/china-atom-laser-gravitational-antenna\n",
      "/news/2019/04/09/iron-volcanism\n",
      "/news/2019/04/08/peanuts\n",
      "https://nplus1.ru/blog/2019/04/03/adventures-in-the-anthropocene\n",
      "https://nplus1.ru/blog/2019/04/03/adventures-in-the-anthropocene\n",
      "https://nplus1.ru/blog/2019/04/02/pompeii-thermopolium\n",
      "https://nplus1.ru/blog/2019/03/29/the-revolutionary-genius-of-plants\n",
      "https://nplus1.ru/blog/2019/03/28/what-about-labioldentals\n",
      "https://nplus1.ru/blog/2019/03/27/five-years-deadline\n",
      "https://nplus1.ru/blog/2019/03/26/limb-183\n",
      "https://nplus1.ru/blog/2019/03/25/ben-franklin-effect\n",
      "https://nplus1.ru/blog/2019/03/22/a-history-of-private-life\n",
      "https://nplus1.ru/blog/2019/03/22/spanish-princess\n",
      "https://nplus1.ru/blog/2019/04/09/game-of-thrones-psychology\n",
      "/\n",
      "/about\n",
      "/adv\n",
      "/rules\n",
      "/vacancy\n",
      "/difficult\n",
      "https://nplus1.ru/personal-data-policy\n",
      "#\n",
      "https://t.me/nplusone\n",
      "http://vk.com/nplusone\n",
      "https://www.facebook.com/nplusone\n",
      "https://twitter.com/nplusodin\n",
      "https://ok.ru/nplus1\n",
      "https://soundcloud.com/nplus_1\n",
      "/rss\n"
     ]
    }
   ],
   "source": [
    "for link in soup.find_all('a'):\n",
    "    print(link.get('href'))"
   ]
  },
  {
   "cell_type": "markdown",
   "metadata": {},
   "source": [
    "Ссылок много. Но нам нужны только новости – ссылки, которые начинаются со слова `/news`. Добавим условие: будем выбирать только те ссылки, в которых есть `/news`. Создадим пустой список `urls` и будем добавлять в него только ссылки, которые удовлетворяют этому условию."
   ]
  },
  {
   "cell_type": "code",
   "execution_count": 6,
   "metadata": {},
   "outputs": [
    {
     "data": {
      "text/plain": [
       "['/news/2019/04/09/ligo-03',\n",
       " '/news/2019/04/09/fecal-transplant-v-asd',\n",
       " '/news/2019/04/09/auroras-in-Jupiter',\n",
       " '/news/2019/04/09/big-Jupiter-in-binary',\n",
       " '/news/2019/04/09/iron-volcanism',\n",
       " '/news/2019/04/09/edge-chromium-dev',\n",
       " '/news/2019/04/09/walking-on-stress-biomarkes',\n",
       " '/news/2019/04/09/robot',\n",
       " '/news/2019/04/09/wing-approval',\n",
       " '/news/2019/04/09/brain-sync-in-elderly',\n",
       " '/news/2019/04/09/drones',\n",
       " '/news/2019/04/09/psychology-replication',\n",
       " '/news/2019/04/09/rocket-lab',\n",
       " '/news/2019/04/08/myths',\n",
       " '/news/2019/04/09/jpals',\n",
       " '/news/2019/04/08/peanuts',\n",
       " '/news/2019/04/08/digital-beowulf-authorship',\n",
       " '/news/2019/04/08/guinnes-bubbles',\n",
       " '/news/2019/04/08/robotic-arm',\n",
       " '/news/2019/04/08/pyroclastic-flow',\n",
       " '/news/2019/04/03/bose-fermi-soliton',\n",
       " '/news/2019/04/02/phase-language',\n",
       " '/news/2019/04/05/electrolyte-conductivity',\n",
       " '/news/2019/04/08/guinnes-bubbles',\n",
       " '/news/2019/04/08/myths',\n",
       " '/news/2019/04/08/tidal-signal',\n",
       " '/news/2019/04/02/china-atom-laser-gravitational-antenna',\n",
       " '/news/2019/04/09/iron-volcanism',\n",
       " '/news/2019/04/08/peanuts']"
      ]
     },
     "execution_count": 6,
     "metadata": {},
     "output_type": "execute_result"
    }
   ],
   "source": [
    "urls = []\n",
    "\n",
    "for link in soup.find_all('a'):\n",
    "    if '/news' in link.get('href'):\n",
    "        urls.append(link.get('href'))\n",
    "urls"
   ]
  },
  {
   "cell_type": "markdown",
   "metadata": {},
   "source": [
    "Ссылки, которые у нас есть в списке `urls`, относительные: они неполные, начало ссылки (название сайта) отсутствует. Давайте превратим их в абсолютные — склеим с ссылкой https://nplus1.ru."
   ]
  },
  {
   "cell_type": "code",
   "execution_count": 7,
   "metadata": {},
   "outputs": [
    {
     "data": {
      "text/plain": [
       "['https://nplus1.ru/news/2019/04/09/ligo-03',\n",
       " 'https://nplus1.ru/news/2019/04/09/fecal-transplant-v-asd',\n",
       " 'https://nplus1.ru/news/2019/04/09/auroras-in-Jupiter',\n",
       " 'https://nplus1.ru/news/2019/04/09/big-Jupiter-in-binary',\n",
       " 'https://nplus1.ru/news/2019/04/09/iron-volcanism',\n",
       " 'https://nplus1.ru/news/2019/04/09/edge-chromium-dev',\n",
       " 'https://nplus1.ru/news/2019/04/09/walking-on-stress-biomarkes',\n",
       " 'https://nplus1.ru/news/2019/04/09/robot',\n",
       " 'https://nplus1.ru/news/2019/04/09/wing-approval',\n",
       " 'https://nplus1.ru/news/2019/04/09/brain-sync-in-elderly',\n",
       " 'https://nplus1.ru/news/2019/04/09/drones',\n",
       " 'https://nplus1.ru/news/2019/04/09/psychology-replication',\n",
       " 'https://nplus1.ru/news/2019/04/09/rocket-lab',\n",
       " 'https://nplus1.ru/news/2019/04/08/myths',\n",
       " 'https://nplus1.ru/news/2019/04/09/jpals',\n",
       " 'https://nplus1.ru/news/2019/04/08/peanuts',\n",
       " 'https://nplus1.ru/news/2019/04/08/digital-beowulf-authorship',\n",
       " 'https://nplus1.ru/news/2019/04/08/guinnes-bubbles',\n",
       " 'https://nplus1.ru/news/2019/04/08/robotic-arm',\n",
       " 'https://nplus1.ru/news/2019/04/08/pyroclastic-flow',\n",
       " 'https://nplus1.ru/news/2019/04/03/bose-fermi-soliton',\n",
       " 'https://nplus1.ru/news/2019/04/02/phase-language',\n",
       " 'https://nplus1.ru/news/2019/04/05/electrolyte-conductivity',\n",
       " 'https://nplus1.ru/news/2019/04/08/guinnes-bubbles',\n",
       " 'https://nplus1.ru/news/2019/04/08/myths',\n",
       " 'https://nplus1.ru/news/2019/04/08/tidal-signal',\n",
       " 'https://nplus1.ru/news/2019/04/02/china-atom-laser-gravitational-antenna',\n",
       " 'https://nplus1.ru/news/2019/04/09/iron-volcanism',\n",
       " 'https://nplus1.ru/news/2019/04/08/peanuts']"
      ]
     },
     "execution_count": 7,
     "metadata": {},
     "output_type": "execute_result"
    }
   ],
   "source": [
    "full_urls = []\n",
    "\n",
    "for u in urls:\n",
    "    res = 'https://nplus1.ru' + u\n",
    "    full_urls.append(res) \n",
    "\n",
    "full_urls"
   ]
  },
  {
   "cell_type": "markdown",
   "metadata": {},
   "source": [
    "Теперь наша задача сводится к следующему: изучить одну страницу с новостью, научиться из нее вытаскивать текст и всю необходимую информацию, а потом применить весь набор действий к каждой ссылке из `full_urls` в цикле. Посмотрим на новость с индексом 1, у вас может быть другая, новости обновляются."
   ]
  },
  {
   "cell_type": "code",
   "execution_count": 8,
   "metadata": {},
   "outputs": [],
   "source": [
    "url0 = full_urls[1]\n",
    "\n",
    "page0 = requests.get(url0)\n",
    "soup0 = BeautifulSoup(page0.text, 'lxml')"
   ]
  },
  {
   "cell_type": "markdown",
   "metadata": {},
   "source": [
    "В коде каждой страницы с новостью есть часть с мета-информацией: датой, именем автора и проч. Такая информация окружена тэгом `<meta></meta>`. Посмотрим:"
   ]
  },
  {
   "cell_type": "code",
   "execution_count": 9,
   "metadata": {},
   "outputs": [
    {
     "data": {
      "text/plain": [
       "[<meta charset=\"utf-8\"/>,\n",
       " <meta content=\"ie=edge\" http-equiv=\"x-ua-compatible\"/>,\n",
       " <meta content=\"width=device-width, initial-scale=1\" name=\"viewport\"/>,\n",
       " <meta content=\"yes\" name=\"apple-mobile-web-app-capable\"/>,\n",
       " <meta content=\"black\" name=\"apple-mobile-web-app-status-bar-style\"/>,\n",
       " <meta content=\"2019-04-09\" itemprop=\"datePublished\"/>,\n",
       " <meta content=\"Елизавета Ивтушок\" name=\"mediator_author\"/>,\n",
       " <meta content=\"Эффект сохранился даже через два года.\" name=\"description\"/>,\n",
       " <meta content=\"Елизавета Ивтушок\" name=\"author\"/>,\n",
       " <meta content=\"\" name=\"copyright\"/>,\n",
       " <meta content=\"Пересадка кишечного микробиома облегчила симптомы аутизма\" property=\"og:title\"/>,\n",
       " <meta content=\"https://nplus1.ru/images/2019/04/09/309f735b2b466b8e1fd79ccf6ef76a34.jpg\" property=\"og:image\"/>,\n",
       " <meta content=\"https://nplus1.ru/news/2019/04/09/fecal-transplant-v-asd\" property=\"og:url\"/>,\n",
       " <meta content=\"Эффект сохранился даже через два года.\" property=\"og:description\"/>,\n",
       " <meta content=\"summary_large_image\" name=\"twitter:card\"/>,\n",
       " <meta content=\"@nplusodin\" name=\"twitter:site\"/>,\n",
       " <meta content=\"Пересадка кишечного микробиома облегчила симптомы аутизма\" name=\"twitter:title\"/>,\n",
       " <meta content=\"Эффект сохранился даже через два года.\" name=\"twitter:description\"/>,\n",
       " <meta content=\"https://nplus1.ru/images/2019/04/09/309f735b2b466b8e1fd79ccf6ef76a34.jpg\" name=\"twitter:image\"/>,\n",
       " <meta content=\"8c90b02c84ac3b72\" name=\"yandex-verification\"/>]"
      ]
     },
     "execution_count": 9,
     "metadata": {},
     "output_type": "execute_result"
    }
   ],
   "source": [
    "soup0.find_all('meta')"
   ]
  },
  {
   "cell_type": "markdown",
   "metadata": {},
   "source": [
    "Из этого списка нам нужны части с именем автора, датой, заголовком и кратким описанием. Воспользуемся поиском по атрибуту `name`. Передадим функции `find_all()` в качестве аргумента словарь с названием и значением атрибута: "
   ]
  },
  {
   "cell_type": "code",
   "execution_count": 10,
   "metadata": {},
   "outputs": [
    {
     "data": {
      "text/plain": [
       "[<meta content=\"Елизавета Ивтушок\" name=\"author\"/>]"
      ]
     },
     "execution_count": 10,
     "metadata": {},
     "output_type": "execute_result"
    }
   ],
   "source": [
    "soup0.find_all('meta', {'name' : 'author'}) # например, автор"
   ]
  },
  {
   "cell_type": "markdown",
   "metadata": {},
   "source": [
    "Теперь выберем единственный элемент полученного списка (с индексом 0):"
   ]
  },
  {
   "cell_type": "code",
   "execution_count": 11,
   "metadata": {},
   "outputs": [
    {
     "data": {
      "text/plain": [
       "<meta content=\"Елизавета Ивтушок\" name=\"author\"/>"
      ]
     },
     "execution_count": 11,
     "metadata": {},
     "output_type": "execute_result"
    }
   ],
   "source": [
    "soup0.find_all('meta', {'name' : 'author'})[0]"
   ]
  },
  {
   "cell_type": "markdown",
   "metadata": {},
   "source": [
    "Нам нужно вытащить из этого объекта `content` – имя автора. Посмотрим на атрибуты:"
   ]
  },
  {
   "cell_type": "code",
   "execution_count": 12,
   "metadata": {},
   "outputs": [
    {
     "data": {
      "text/plain": [
       "{'name': 'author', 'content': 'Елизавета Ивтушок'}"
      ]
     },
     "execution_count": 12,
     "metadata": {},
     "output_type": "execute_result"
    }
   ],
   "source": [
    "soup0.find_all('meta', {'name' : 'author'})[0].attrs"
   ]
  },
  {
   "cell_type": "markdown",
   "metadata": {},
   "source": [
    "Как получить отсюда `content`? Очень просто, ведь это словарь! А доставать из словаря значение по ключу мы умеем."
   ]
  },
  {
   "cell_type": "code",
   "execution_count": 13,
   "metadata": {},
   "outputs": [
    {
     "data": {
      "text/plain": [
       "'Елизавета Ивтушок'"
      ]
     },
     "execution_count": 13,
     "metadata": {},
     "output_type": "execute_result"
    }
   ],
   "source": [
    "author = soup0.find_all('meta', {'name' : 'author'})[0].attrs['content']\n",
    "author"
   ]
  },
  {
   "cell_type": "markdown",
   "metadata": {},
   "source": [
    "Аналогичным образом извлечем дату, заголовок и описание."
   ]
  },
  {
   "cell_type": "code",
   "execution_count": 14,
   "metadata": {},
   "outputs": [],
   "source": [
    "date = soup0.find_all('meta', {'itemprop' : 'datePublished'})[0].attrs['content']\n",
    "title = soup0.find_all('meta', {'property' : 'og:title'})[0].attrs['content']\n",
    "description = soup0.find_all('meta', {'name' : 'description'})[0].attrs['content']"
   ]
  },
  {
   "cell_type": "markdown",
   "metadata": {},
   "source": [
    "Осталось вытащить рубрики и сложность текста. Если мы посмотрим на исходный код страницы, мы увидим, что нужная нам информация находится в тэгах `<p></p>`:"
   ]
  },
  {
   "cell_type": "code",
   "execution_count": 15,
   "metadata": {},
   "outputs": [
    {
     "data": {
      "text/plain": [
       "[<p class=\"table\">\n",
       " <a data-rubric=\"medicine\" href=\"/rubric/medicine\">Медицина</a>\n",
       " <a data-rubric=\"biology\" href=\"/rubric/biology\">Биология</a>\n",
       " </p>, <p class=\"table\">\n",
       " <a href=\"/news/2019/04/09\">\n",
       " <time content=\"2019-04-09\" data-unix=\"1554824422\" itemprop=\"datePublished\">\n",
       " <span>18:40</span>\n",
       " <span>09 Апр. 2019</span>\n",
       " </time>\n",
       " </a>\n",
       " </p>, <p class=\"table\">\n",
       " <a href=\"/difficult/2.8\">\n",
       " <span>Сложность</span>\n",
       " <span class=\"difficult-value\">2.8</span>\n",
       " </a>\n",
       " </p>, <p>Американские ученые опубликовали результаты двухлетнего исследования влияния трансплантированного кишечного микробиома на симптомы расстройства аутистического спектра среди 18 детей. Помимо улучшения работы желудочно-кишечного тракта, которое наблюдалось сразу же после трансплантации в начале исследования, ученые сообщили и о значимых поведенческих улучшениях. Статья <a href=\"https://www.nature.com/articles/s41598-019-42183-0\" rel=\"nofollow\" target=\"_blank\">опубликована</a> в журнале <i>Scientific Reports</i>.</p>, <p>На настоящий момент эффективного средства лечения расстройства аутистического спектра не существует, в лучшем случае можно купировать симптомы с помощью длительной поведенческой терапии (подробнее об этом расстройстве и истории его изучения вы можете прочитать в нашем тексте <a href=\"https://nplus1.ru/material/2019/04/02/autism\" target=\"_blank\">«Дети дождя»</a>).</p>, <p>В январе 2017 года группа ученых под руководством Дае-Вука Канга (Dae-Wook Kang) <a href=\"https://microbiomejournal.biomedcentral.com/articles/10.1186/s40168-016-0225-7\" rel=\"nofollow\" target=\"_blank\">запустила</a> долгосрочный проект по изучению влияния трансплантации кишечного микробиома здоровых людей на симптомы расстройства аутистического спектра — как желудочно-кишечные, так и поведенческие. В ходе эксперимента участники (всего их было 18 человек) пропили двухнедельный курс антибиотиков и прошли чистку кишечника, после чего им трансплантировали фекальный микробиом здоровых людей — в большом количестве единожды и в качестве ежедневного лечения в течение последующих недель. За время наблюдений у участников улучшились желудочно-кишечные симптомы: пропали запоры, диарея и боль в животе. Сохранение положительных результатов наблюдалось в течение восьми недель, а также улучшились поведенческие симптомы. </p>, <p>В новой работе авторы оригинального исследования сообщили о том, что положительный эффект от терапии сохранился и в течение последующий двух лет после изначального эксперимента. Наиболее значимым и интересным с точки зрения терапии аутизма оказались результаты опроса Childhood Autism Rating Scale (<a href=\"https://en.wikipedia.org/wiki/Childhood_Autism_Rating_Scale\" rel=\"nofollow\" target=\"_blank\">CARS</a>), который указывает на тяжесть симптомов, характерных для расстройства аутистического спектра, у детей. По этой шкале тяжесть симптомов стала на 47 процентов меньше, чем до начала лечения, причем два года назад, сразу после окончания лечения, этот показатель был равен только 23 процентам.</p>, <p></p>, <p class=\"title\">Изменение симптомов расстройства аутистического спектра (красный — тяжелые, желтый — средней тяжести, синий — легкие) до, сразу после и через два года после проведения трансплантации</p>, <p class=\"credits\">Dae-Wook Kang et al. / Scientific Reports, 2019</p>, <p>Состав кишечного микробиома человека связан не только с состоянием желудочно-кишечного тракта и болезней, которые с ним связаны: исследования показывают, что бактерии человеческого кишечника провоцируют <a href=\"https://nplus1.ru/news/2017/09/15/MS-Akkermansia\" target=\"_blank\">рассеянный склероз</a>, играют свою роль в появлении <a href=\"https://nplus1.ru/news/2017/05/12/hemangioma-microbiom\" target=\"_blank\">инсульта</a>, а также связаны с <a href=\"https://nplus1.ru/news/2019/02/04/gut-microbiome\" target=\"_blank\">возникновением депрессии</a> и общим качеством жизни человека. Соответственно, предполагается, что <a href=\"https://ru.wikipedia.org/wiki/%D0%A2%D1%80%D0%B0%D0%BD%D1%81%D0%BF%D0%BB%D0%B0%D0%BD%D1%82%D0%B0%D1%86%D0%B8%D1%8F_%D1%84%D0%B5%D0%BA%D0%B0%D0%BB%D1%8C%D0%BD%D0%BE%D0%B9_%D0%BC%D0%B8%D0%BA%D1%80%D0%BE%D0%B1%D0%B8%D0%BE%D1%82%D1%8B\" rel=\"nofollow\" target=\"_blank\">трансплантация</a> фекального микробиома может быть либо профилактическим, либо лечебным средством от этих заболеваний и расстройств. Проведенное исследование показывает, что использование микробиома здоровых людей для лечения симптомов расстройства аутистического спектра — метод безопасный и эффективный (по крайней мере в рамках первого пилотного исследования).</p>, <p>В 2016 году в Норвегии <a href=\"https://nplus1.ru/news/2016/02/16/faeces-bank\" target=\"_blank\">открылся</a> первый банк фекалий: в нем хранятся образцы экскрементов людей для трансплантации, а также использования в научных исследованиях.</p>, <p><i>Елизавета Ивтушок</i></p>, <p>Нашли опечатку? Выделите фрагмент и нажмите Ctrl+Enter.</p>, <p class=\"subtitle\">Как создавалось программное обеспечение ГИС ЖКХ</p>, <p>Коэффициент сложности</p>, <p>Коэффициент сложности</p>, <p>Коэффициент сложности</p>, <p>Коэффициент сложности</p>, <p>Коэффициент сложности</p>, <p>Коэффициент сложности</p>, <p>Коэффициент сложности</p>, <p>Коэффициент сложности</p>, <p>Коэффициент сложности</p>, <p>Коэффициент сложности</p>, <p>© 2019 N+1 Интернет-издание   Свидетельство о регистрации СМИ Эл № ФС77-67614</p>, <p>Использование всех текстовых материалов без изменений в некоммерческих целях разрешается со ссылкой на N+1. \n",
       "                         Все аудиовизуальные произведения являются собственностью своих авторов и правообладателей и используются \n",
       "                         только в образовательных и информационных целях. Если вы являетесь собственником того или иного произведения \n",
       "                         и не согласны с его размещением на нашем сайте, пожалуйста, напишите на kirill@nplus1.ru</p>, <p>Материалы, опубликованные в разделе «Блоги», отражают позиции их авторов, которые могут не совпадать с мнением редакции.</p>, <p>Сайт может содержать контент, не предназначенный для лиц младше 18 лет.</p>, <p>\n",
       " <a class=\"pd\" href=\"https://nplus1.ru/personal-data-policy\">Политика обработки персональных данных пользователей сайта</a>\n",
       " </p>, <p>\n",
       " <script async=\"\" src=\"//s.luxupcdnc.com/t/consent_195458.js\" type=\"text/javascript\"></script>\n",
       " <a href=\"#\" onclick=\"if(window.__lxG__consent__ !== undefined) {window.__lxG__consent__.showConsent()} else {alert('This function works only for users from the European Economic Area (EEA).')}; return false\">Change privacy settings</a>\n",
       " </p>, <p>\n",
       " </p>]"
      ]
     },
     "execution_count": 15,
     "metadata": {},
     "output_type": "execute_result"
    }
   ],
   "source": [
    "soup0.find_all('p')"
   ]
  },
  {
   "cell_type": "markdown",
   "metadata": {},
   "source": [
    "Выберем из полученного списка первый элемент и найдем в нем все тэги `<a>`:"
   ]
  },
  {
   "cell_type": "code",
   "execution_count": 16,
   "metadata": {},
   "outputs": [
    {
     "data": {
      "text/plain": [
       "[<a data-rubric=\"medicine\" href=\"/rubric/medicine\">Медицина</a>,\n",
       " <a data-rubric=\"biology\" href=\"/rubric/biology\">Биология</a>]"
      ]
     },
     "execution_count": 16,
     "metadata": {},
     "output_type": "execute_result"
    }
   ],
   "source": [
    "soup0.find_all('p')[0].find_all('a')"
   ]
  },
  {
   "cell_type": "markdown",
   "metadata": {},
   "source": [
    "Получился список. Применим списковые включения – вытащим из каждого элемента (их могло бы быть больше) текст и поместим его в новый список `rubrics`."
   ]
  },
  {
   "cell_type": "code",
   "execution_count": 17,
   "metadata": {},
   "outputs": [
    {
     "data": {
      "text/plain": [
       "['Медицина', 'Биология']"
      ]
     },
     "execution_count": 17,
     "metadata": {},
     "output_type": "execute_result"
    }
   ],
   "source": [
    "rubrics = [r.text for r in soup0.find_all('p')[0].find_all('a')]\n",
    "rubrics"
   ]
  },
  {
   "cell_type": "markdown",
   "metadata": {},
   "source": [
    "Осталась только сложность. Возьмем соответствующий кусок кода:"
   ]
  },
  {
   "cell_type": "code",
   "execution_count": 18,
   "metadata": {},
   "outputs": [
    {
     "data": {
      "text/plain": [
       "[<span class=\"difficult-value\">2.8</span>]"
      ]
     },
     "execution_count": 18,
     "metadata": {},
     "output_type": "execute_result"
    }
   ],
   "source": [
    "soup0.find_all('span', {'class' : 'difficult-value'})"
   ]
  },
  {
   "cell_type": "markdown",
   "metadata": {},
   "source": [
    "И выберем оттуда текст."
   ]
  },
  {
   "cell_type": "code",
   "execution_count": 19,
   "metadata": {},
   "outputs": [
    {
     "data": {
      "text/plain": [
       "'2.8'"
      ]
     },
     "execution_count": 19,
     "metadata": {},
     "output_type": "execute_result"
    }
   ],
   "source": [
    "diff = soup0.find_all('span', {'class' : 'difficult-value'})[0].text\n",
    "diff"
   ]
  },
  {
   "cell_type": "markdown",
   "metadata": {},
   "source": [
    "Теперь перейдем к тексту самой новости. Как можно заметить, текст сохранен в абзацах `<p></p>`, причем безо всяких атрибутов. Сообщим Python, что нас интересуют куски с пустым атрибутом `class`:"
   ]
  },
  {
   "cell_type": "code",
   "execution_count": 20,
   "metadata": {},
   "outputs": [],
   "source": [
    "text_list = soup0.find_all('p', {'class' : None})"
   ]
  },
  {
   "cell_type": "markdown",
   "metadata": {},
   "source": [
    "«Выцепим» все тексты (без тэгов) из полученного списка:"
   ]
  },
  {
   "cell_type": "code",
   "execution_count": 21,
   "metadata": {},
   "outputs": [],
   "source": [
    "text = [t.text for t in text_list]"
   ]
  },
  {
   "cell_type": "markdown",
   "metadata": {},
   "source": [
    "Склеим все элементы списка `text` через пробел:"
   ]
  },
  {
   "cell_type": "code",
   "execution_count": 22,
   "metadata": {},
   "outputs": [
    {
     "data": {
      "text/plain": [
       "'Американские ученые опубликовали результаты двухлетнего исследования влияния трансплантированного кишечного микробиома на симптомы расстройства аутистического спектра среди 18 детей. Помимо улучшения работы желудочно-кишечного тракта, которое наблюдалось сразу же после трансплантации в начале исследования, ученые сообщили и о значимых поведенческих улучшениях. Статья опубликована в журнале Scientific Reports. На настоящий момент эффективного средства лечения расстройства аутистического спектра не существует, в лучшем случае можно купировать симптомы с помощью длительной поведенческой терапии (подробнее об этом расстройстве и истории его изучения вы можете прочитать в нашем тексте «Дети дождя»). В январе 2017 года группа ученых под руководством Дае-Вука Канга (Dae-Wook Kang) запустила долгосрочный проект по изучению влияния трансплантации кишечного микробиома здоровых людей на симптомы расстройства аутистического спектра — как желудочно-кишечные, так и поведенческие. В ходе эксперимента участники (всего их было 18 человек) пропили двухнедельный курс антибиотиков и прошли чистку кишечника, после чего им трансплантировали фекальный микробиом здоровых людей — в большом количестве единожды и в качестве ежедневного лечения в течение последующих недель. За время наблюдений у участников улучшились желудочно-кишечные симптомы: пропали запоры, диарея и боль в животе. Сохранение положительных результатов наблюдалось в течение восьми недель, а также улучшились поведенческие симптомы.\\xa0 В новой работе авторы оригинального исследования сообщили о том, что положительный эффект от терапии сохранился и в течение последующий двух лет после изначального эксперимента. Наиболее значимым и интересным с точки зрения терапии аутизма оказались результаты опроса Childhood Autism Rating Scale (CARS), который указывает на тяжесть симптомов, характерных для расстройства аутистического спектра, у детей. По этой шкале тяжесть симптомов стала на 47 процентов меньше, чем до начала лечения, причем два года назад, сразу после окончания лечения, этот показатель был равен только 23 процентам.  Состав кишечного микробиома человека связан не только с состоянием желудочно-кишечного тракта и болезней, которые с ним связаны: исследования показывают, что бактерии человеческого кишечника провоцируют рассеянный склероз, играют свою роль в появлении инсульта, а также связаны с возникновением депрессии и общим качеством жизни человека. Соответственно, предполагается, что трансплантация фекального микробиома может быть либо профилактическим, либо лечебным средством от этих заболеваний и расстройств. Проведенное исследование показывает, что использование микробиома здоровых людей для лечения симптомов расстройства аутистического спектра — метод безопасный и эффективный (по крайней мере в рамках первого пилотного исследования). В 2016 году в Норвегии открылся первый банк фекалий: в нем хранятся образцы экскрементов людей для трансплантации, а также использования в научных исследованиях. Елизавета Ивтушок Нашли опечатку? Выделите фрагмент и нажмите Ctrl+Enter. Коэффициент сложности Коэффициент сложности Коэффициент сложности Коэффициент сложности Коэффициент сложности Коэффициент сложности Коэффициент сложности Коэффициент сложности Коэффициент сложности Коэффициент сложности © 2019 N+1 Интернет-издание \\xa0 Свидетельство о регистрации СМИ Эл № ФС77-67614 Использование всех текстовых материалов без изменений в некоммерческих целях разрешается со ссылкой на N+1. \\n                        Все аудиовизуальные произведения являются собственностью своих авторов и правообладателей и используются \\n                        только в образовательных и информационных целях. Если вы являетесь собственником того или иного произведения \\n                        и не согласны с его размещением на нашем сайте, пожалуйста, напишите на kirill@nplus1.ru Материалы, опубликованные в разделе «Блоги», отражают позиции их авторов, которые могут не совпадать с мнением редакции. Сайт может содержать контент, не предназначенный для лиц младше 18 лет. \\nПолитика обработки персональных данных пользователей сайта\\n \\n\\nChange privacy settings\\n \\n'"
      ]
     },
     "execution_count": 22,
     "metadata": {},
     "output_type": "execute_result"
    }
   ],
   "source": [
    "final_text = ' '.join(text)\n",
    "final_text"
   ]
  },
  {
   "cell_type": "markdown",
   "metadata": {},
   "source": [
    "Все здорово, только мешают отступы-переходы на новую строку `\\n`. Заменим их на пробелы с помощью метода `.replace`:"
   ]
  },
  {
   "cell_type": "code",
   "execution_count": 23,
   "metadata": {},
   "outputs": [],
   "source": [
    "final_text = final_text.replace('\\n', ' ')"
   ]
  },
  {
   "cell_type": "markdown",
   "metadata": {},
   "source": [
    "Не прошло и двух пар, как мы разобрались со всем :) Теперь осталось совсем чуть-чуть. Написать готовую функцию для всех проделанных нами действий и применить ее в цикле для всех ссылок в списке `full_urls`. Напишем! Аргументом функции будет ссылка на новость, а возвращать она будет текст новости и всю необходимую информацию (дата, автор, сложность и проч.). Скопируем все строки кода выше."
   ]
  },
  {
   "cell_type": "code",
   "execution_count": 24,
   "metadata": {},
   "outputs": [],
   "source": [
    "def GetNews(url0):\n",
    "    \"\"\"\n",
    "    Returns a tuple with url0, date, author, description, title, final_text, rubrics, diff.\n",
    "    Parameters:\n",
    "    \n",
    "    url0 is a link to the news (string)\n",
    "    \"\"\"\n",
    "    page0 = requests.get(url0)\n",
    "    soup0 = BeautifulSoup(page0.text, 'lxml')\n",
    "    author = soup0.find_all('meta', {'name' : 'author'})[0].attrs['content']\n",
    "    date = soup0.find_all('meta', {'itemprop' : 'datePublished'})[0].attrs['content']\n",
    "    title = soup0.find_all('meta', {'property' : 'og:title'})[0].attrs['content']\n",
    "    description = soup0.find_all('meta', {'name' : 'description'})[0].attrs['content']\n",
    "    rubrics = [r.text for r in soup0.find_all('p')[0].find_all('a')]\n",
    "    diff = soup0.find_all('span', {'class' : 'difficult-value'})[0].text\n",
    "    text_list = soup0.find_all('p', {'class' : None})\n",
    "    text = [t.text for t in text_list]\n",
    "    final_text = ' '.join(text)\n",
    "    final_text = final_text.replace('\\n', ' ')\n",
    "    \n",
    "    return url0, date, author, description, title, final_text, rubrics, diff"
   ]
  },
  {
   "cell_type": "markdown",
   "metadata": {},
   "source": [
    "Уфф. Осталось применить ее в цикле. Но давайте не будем спешить: импортируем функцию `sleep` для задержки, чтобы на каждой итерации цикла, прежде чем перейти к следующей новости, Python ждал несколько секунд. Во-первых, это нужно, чтобы сайт «не понял», чтобы мы его грабим, да еще автоматически. Во-вторых, с небольшой задержкой всегда есть гарантия, что страница прогрузится (сейчас это пока не очень важно, но особенно актуально будет, когда будем обсуждать встраивание в браузер с Selenium). Приступим."
   ]
  },
  {
   "cell_type": "code",
   "execution_count": 25,
   "metadata": {},
   "outputs": [],
   "source": [
    "from time import sleep"
   ]
  },
  {
   "cell_type": "code",
   "execution_count": 26,
   "metadata": {},
   "outputs": [],
   "source": [
    "news = [] # это будет список из кортежей, в которых будут храниться данные по каждой новости\n",
    "\n",
    "for link in full_urls:\n",
    "    res = GetNews(link)\n",
    "    news.append(res)\n",
    "    sleep(3) # задержка в 3 секунды"
   ]
  },
  {
   "cell_type": "markdown",
   "metadata": {},
   "source": [
    "Так теперь выглядит первый элемент списка:"
   ]
  },
  {
   "cell_type": "code",
   "execution_count": 27,
   "metadata": {},
   "outputs": [
    {
     "data": {
      "text/plain": [
       "('https://nplus1.ru/news/2019/04/09/ligo-03',\n",
       " '2019-04-09',\n",
       " 'Тимур Кешелава',\n",
       " 'Это произошло спустя менее 10 дней после начала нового наблюдательного этапа работы американских антенн LIGO.',\n",
       " 'LIGO поймала первую гравитационную волну нового сезона',\n",
       " 'В базе данных о регистрации гравитационных волн появилось новое событие-кандидат под номером S190408an. Это произошло спустя менее 10 дней после начала нового наблюдательного этапа работы американских антенн LIGO. На данный момент не было зафиксировано вспышки электромагнитного излучения из этого же направления — это значит, что наиболее вероятным объяснением является слияние черных дыр. 1 апреля начался новый сеанс поиска гравитационных волн на паре американских установок LIGO и европейской антенне Virgo. Обсерватории приступили к работе после обновления и повышения чувствительности, которое продолжалось в течение предыдущих 19 месяцев. Чувствительность аппаратуры существенно возросла, как и объем Вселенной, где слияния черных дыр породят заметное возмущение. Предварительные оптимистичные оценки показывали, что можно ожидать темпа регистрации на уровне одного события в неделю. Новое событие было зафиксировано в 18:18:02 по всемирному времени (21:18:02 по Москве) 8 апреля, спустя всего 8 дней после начала нового наблюдательного периода. Источник находился в районе созвездия Ящерицы, но точности и количества гравитационных антенн по-прежнему не хватает для определения направления с маленькими ошибками: область локализации с 90-процентной точностью занимает на небе площадь в 387 квадратных градусов. Оценочное расстояние до объекта составляет 1427 мегапарсек с ошибками порядка 350 мегапарсек. На данный момент нет информации о размере и массе черных дыр, но, судя по достаточно большому расстоянию и уверенному детектированию, о чем говорит высокое соотношение сигнал/шум, это были крупные тела, с массами порядка 30 солнечных. Обычные телескопы, такие как работающий в оптическом диапазоне МАСТЕР и улавливающий гамма-кванты Fermi также смотрели в данную область, но не смогли зафиксировать вспышки в указанное время. Антенны LIGO позволили впервые в истории зафиксировать гравитационные волны, о чем было объявлено в 2016 году, а в 2017 вручена Нобелевская премия по физике.\\xa0Подробнее про регистрацию гравитационных волн можно прочитать в материалах «На гребне метрического тензора», «Точилка для квантового карандаша»и «Тоньше протона». Нашли опечатку? Выделите фрагмент и нажмите Ctrl+Enter. Коэффициент сложности Коэффициент сложности Коэффициент сложности Коэффициент сложности Коэффициент сложности Коэффициент сложности Коэффициент сложности Коэффициент сложности Коэффициент сложности Коэффициент сложности © 2019 N+1 Интернет-издание \\xa0 Свидетельство о регистрации СМИ Эл № ФС77-67614 Использование всех текстовых материалов без изменений в некоммерческих целях разрешается со ссылкой на N+1.                          Все аудиовизуальные произведения являются собственностью своих авторов и правообладателей и используются                          только в образовательных и информационных целях. Если вы являетесь собственником того или иного произведения                          и не согласны с его размещением на нашем сайте, пожалуйста, напишите на kirill@nplus1.ru Материалы, опубликованные в разделе «Блоги», отражают позиции их авторов, которые могут не совпадать с мнением редакции. Сайт может содержать контент, не предназначенный для лиц младше 18 лет.  Политика обработки персональных данных пользователей сайта    Change privacy settings   ',\n",
       " ['Физика', 'Астрономия'],\n",
       " '3.8')"
      ]
     },
     "execution_count": 27,
     "metadata": {},
     "output_type": "execute_result"
    }
   ],
   "source": [
    "news[0]"
   ]
  },
  {
   "cell_type": "markdown",
   "metadata": {},
   "source": [
    "Импортируем `pandas` и создадим датафрейм из списка кортежей: "
   ]
  },
  {
   "cell_type": "code",
   "execution_count": 28,
   "metadata": {},
   "outputs": [],
   "source": [
    "import pandas as pd"
   ]
  },
  {
   "cell_type": "code",
   "execution_count": 29,
   "metadata": {},
   "outputs": [],
   "source": [
    "df = pd.DataFrame(news)"
   ]
  },
  {
   "cell_type": "code",
   "execution_count": 30,
   "metadata": {},
   "outputs": [
    {
     "data": {
      "text/html": [
       "<div>\n",
       "<style scoped>\n",
       "    .dataframe tbody tr th:only-of-type {\n",
       "        vertical-align: middle;\n",
       "    }\n",
       "\n",
       "    .dataframe tbody tr th {\n",
       "        vertical-align: top;\n",
       "    }\n",
       "\n",
       "    .dataframe thead th {\n",
       "        text-align: right;\n",
       "    }\n",
       "</style>\n",
       "<table border=\"1\" class=\"dataframe\">\n",
       "  <thead>\n",
       "    <tr style=\"text-align: right;\">\n",
       "      <th></th>\n",
       "      <th>0</th>\n",
       "      <th>1</th>\n",
       "      <th>2</th>\n",
       "      <th>3</th>\n",
       "      <th>4</th>\n",
       "      <th>5</th>\n",
       "      <th>6</th>\n",
       "      <th>7</th>\n",
       "    </tr>\n",
       "  </thead>\n",
       "  <tbody>\n",
       "    <tr>\n",
       "      <th>0</th>\n",
       "      <td>https://nplus1.ru/news/2019/04/09/ligo-03</td>\n",
       "      <td>2019-04-09</td>\n",
       "      <td>Тимур Кешелава</td>\n",
       "      <td>Это произошло спустя менее 10 дней после начал...</td>\n",
       "      <td>LIGO поймала первую гравитационную волну новог...</td>\n",
       "      <td>В базе данных о регистрации гравитационных вол...</td>\n",
       "      <td>[Физика, Астрономия]</td>\n",
       "      <td>3.8</td>\n",
       "    </tr>\n",
       "    <tr>\n",
       "      <th>1</th>\n",
       "      <td>https://nplus1.ru/news/2019/04/09/fecal-transp...</td>\n",
       "      <td>2019-04-09</td>\n",
       "      <td>Елизавета Ивтушок</td>\n",
       "      <td>Эффект сохранился даже через два года.</td>\n",
       "      <td>Пересадка кишечного микробиома облегчила симпт...</td>\n",
       "      <td>Американские ученые опубликовали результаты дв...</td>\n",
       "      <td>[Медицина, Биология]</td>\n",
       "      <td>2.8</td>\n",
       "    </tr>\n",
       "  </tbody>\n",
       "</table>\n",
       "</div>"
      ],
      "text/plain": [
       "                                                   0           1  \\\n",
       "0          https://nplus1.ru/news/2019/04/09/ligo-03  2019-04-09   \n",
       "1  https://nplus1.ru/news/2019/04/09/fecal-transp...  2019-04-09   \n",
       "\n",
       "                   2                                                  3  \\\n",
       "0     Тимур Кешелава  Это произошло спустя менее 10 дней после начал...   \n",
       "1  Елизавета Ивтушок             Эффект сохранился даже через два года.   \n",
       "\n",
       "                                                   4  \\\n",
       "0  LIGO поймала первую гравитационную волну новог...   \n",
       "1  Пересадка кишечного микробиома облегчила симпт...   \n",
       "\n",
       "                                                   5                     6  \\\n",
       "0  В базе данных о регистрации гравитационных вол...  [Физика, Астрономия]   \n",
       "1  Американские ученые опубликовали результаты дв...  [Медицина, Биология]   \n",
       "\n",
       "     7  \n",
       "0  3.8  \n",
       "1  2.8  "
      ]
     },
     "execution_count": 30,
     "metadata": {},
     "output_type": "execute_result"
    }
   ],
   "source": [
    "df.head(2)"
   ]
  },
  {
   "cell_type": "markdown",
   "metadata": {},
   "source": [
    "Переименуем столбцы в базе."
   ]
  },
  {
   "cell_type": "code",
   "execution_count": 31,
   "metadata": {},
   "outputs": [],
   "source": [
    "df.columns = ['link', 'date', 'author', 'desc', 'title', 'text', 'rubric', 'diffc']"
   ]
  },
  {
   "cell_type": "code",
   "execution_count": 32,
   "metadata": {},
   "outputs": [
    {
     "data": {
      "text/html": [
       "<div>\n",
       "<style scoped>\n",
       "    .dataframe tbody tr th:only-of-type {\n",
       "        vertical-align: middle;\n",
       "    }\n",
       "\n",
       "    .dataframe tbody tr th {\n",
       "        vertical-align: top;\n",
       "    }\n",
       "\n",
       "    .dataframe thead th {\n",
       "        text-align: right;\n",
       "    }\n",
       "</style>\n",
       "<table border=\"1\" class=\"dataframe\">\n",
       "  <thead>\n",
       "    <tr style=\"text-align: right;\">\n",
       "      <th></th>\n",
       "      <th>link</th>\n",
       "      <th>date</th>\n",
       "      <th>author</th>\n",
       "      <th>desc</th>\n",
       "      <th>title</th>\n",
       "      <th>text</th>\n",
       "      <th>rubric</th>\n",
       "      <th>diffc</th>\n",
       "    </tr>\n",
       "  </thead>\n",
       "  <tbody>\n",
       "    <tr>\n",
       "      <th>0</th>\n",
       "      <td>https://nplus1.ru/news/2019/04/09/ligo-03</td>\n",
       "      <td>2019-04-09</td>\n",
       "      <td>Тимур Кешелава</td>\n",
       "      <td>Это произошло спустя менее 10 дней после начал...</td>\n",
       "      <td>LIGO поймала первую гравитационную волну новог...</td>\n",
       "      <td>В базе данных о регистрации гравитационных вол...</td>\n",
       "      <td>[Физика, Астрономия]</td>\n",
       "      <td>3.8</td>\n",
       "    </tr>\n",
       "    <tr>\n",
       "      <th>1</th>\n",
       "      <td>https://nplus1.ru/news/2019/04/09/fecal-transp...</td>\n",
       "      <td>2019-04-09</td>\n",
       "      <td>Елизавета Ивтушок</td>\n",
       "      <td>Эффект сохранился даже через два года.</td>\n",
       "      <td>Пересадка кишечного микробиома облегчила симпт...</td>\n",
       "      <td>Американские ученые опубликовали результаты дв...</td>\n",
       "      <td>[Медицина, Биология]</td>\n",
       "      <td>2.8</td>\n",
       "    </tr>\n",
       "  </tbody>\n",
       "</table>\n",
       "</div>"
      ],
      "text/plain": [
       "                                                link        date  \\\n",
       "0          https://nplus1.ru/news/2019/04/09/ligo-03  2019-04-09   \n",
       "1  https://nplus1.ru/news/2019/04/09/fecal-transp...  2019-04-09   \n",
       "\n",
       "              author                                               desc  \\\n",
       "0     Тимур Кешелава  Это произошло спустя менее 10 дней после начал...   \n",
       "1  Елизавета Ивтушок             Эффект сохранился даже через два года.   \n",
       "\n",
       "                                               title  \\\n",
       "0  LIGO поймала первую гравитационную волну новог...   \n",
       "1  Пересадка кишечного микробиома облегчила симпт...   \n",
       "\n",
       "                                                text                rubric  \\\n",
       "0  В базе данных о регистрации гравитационных вол...  [Физика, Астрономия]   \n",
       "1  Американские ученые опубликовали результаты дв...  [Медицина, Биология]   \n",
       "\n",
       "  diffc  \n",
       "0   3.8  \n",
       "1   2.8  "
      ]
     },
     "execution_count": 32,
     "metadata": {},
     "output_type": "execute_result"
    }
   ],
   "source": [
    "df.head(2)"
   ]
  },
  {
   "cell_type": "markdown",
   "metadata": {},
   "source": [
    "Теперь внесем изменения: сделаем столбец `diffc` числовым – типа *float*."
   ]
  },
  {
   "cell_type": "code",
   "execution_count": 33,
   "metadata": {},
   "outputs": [],
   "source": [
    "df['diffc'] = df['diffc'].astype(float)"
   ]
  },
  {
   "cell_type": "markdown",
   "metadata": {},
   "source": [
    "Теперь сложность представлена в базе как количественный показатель, и описывать её можно соответствующим образом:"
   ]
  },
  {
   "cell_type": "code",
   "execution_count": 34,
   "metadata": {},
   "outputs": [
    {
     "data": {
      "text/plain": [
       "count    29.000000\n",
       "mean      4.186207\n",
       "std       1.555801\n",
       "min       1.800000\n",
       "25%       3.100000\n",
       "50%       3.900000\n",
       "75%       5.500000\n",
       "max       7.100000\n",
       "Name: diffc, dtype: float64"
      ]
     },
     "execution_count": 34,
     "metadata": {},
     "output_type": "execute_result"
    }
   ],
   "source": [
    "df.diffc.describe()"
   ]
  },
  {
   "cell_type": "markdown",
   "metadata": {},
   "source": [
    "Теперь столбец со сложностью точно числовой. Можем даже построить для него гистограмму."
   ]
  },
  {
   "cell_type": "code",
   "execution_count": 35,
   "metadata": {},
   "outputs": [
    {
     "data": {
      "text/plain": [
       "<matplotlib.axes._subplots.AxesSubplot at 0x114b7add8>"
      ]
     },
     "execution_count": 35,
     "metadata": {},
     "output_type": "execute_result"
    },
    {
     "data": {
      "image/png": "[encoded data removed]",
      "text/plain": [
       "<Figure size 432x288 with 1 Axes>"
      ]
     },
     "metadata": {},
     "output_type": "display_data"
    }
   ],
   "source": [
    "%matplotlib inline\n",
    "df.diffc.plot.hist()"
   ]
  },
  {
   "cell_type": "markdown",
   "metadata": {},
   "source": [
    "Объединим рубрики в *text* в одну строку через запятую:"
   ]
  },
  {
   "cell_type": "code",
   "execution_count": 36,
   "metadata": {},
   "outputs": [],
   "source": [
    "df['rubric'] = [','.join(r) for r in df.rubric]"
   ]
  },
  {
   "cell_type": "markdown",
   "metadata": {},
   "source": [
    "Давайте почистим текст новостей – уберем оттуда текст, не относящийся к новостям. Найдем лишнее:"
   ]
  },
  {
   "cell_type": "code",
   "execution_count": 37,
   "metadata": {},
   "outputs": [
    {
     "data": {
      "text/plain": [
       "'В базе данных о регистрации гравитационных волн появилось новое событие-кандидат под номером S190408an. Это произошло спустя менее 10 дней после начала нового наблюдательного этапа работы американских антенн LIGO. На данный момент не было зафиксировано вспышки электромагнитного излучения из этого же направления — это значит, что наиболее вероятным объяснением является слияние черных дыр. 1 апреля начался новый сеанс поиска гравитационных волн на паре американских установок LIGO и европейской антенне Virgo. Обсерватории приступили к работе после обновления и повышения чувствительности, которое продолжалось в течение предыдущих 19 месяцев. Чувствительность аппаратуры существенно возросла, как и объем Вселенной, где слияния черных дыр породят заметное возмущение. Предварительные оптимистичные оценки показывали, что можно ожидать темпа регистрации на уровне одного события в неделю. Новое событие было зафиксировано в 18:18:02 по всемирному времени (21:18:02 по Москве) 8 апреля, спустя всего 8 дней после начала нового наблюдательного периода. Источник находился в районе созвездия Ящерицы, но точности и количества гравитационных антенн по-прежнему не хватает для определения направления с маленькими ошибками: область локализации с 90-процентной точностью занимает на небе площадь в 387 квадратных градусов. Оценочное расстояние до объекта составляет 1427 мегапарсек с ошибками порядка 350 мегапарсек. На данный момент нет информации о размере и массе черных дыр, но, судя по достаточно большому расстоянию и уверенному детектированию, о чем говорит высокое соотношение сигнал/шум, это были крупные тела, с массами порядка 30 солнечных. Обычные телескопы, такие как работающий в оптическом диапазоне МАСТЕР и улавливающий гамма-кванты Fermi также смотрели в данную область, но не смогли зафиксировать вспышки в указанное время. Антенны LIGO позволили впервые в истории зафиксировать гравитационные волны, о чем было объявлено в 2016 году, а в 2017 вручена Нобелевская премия по физике.\\xa0Подробнее про регистрацию гравитационных волн можно прочитать в материалах «На гребне метрического тензора», «Точилка для квантового карандаша»и «Тоньше протона». Нашли опечатку? Выделите фрагмент и нажмите Ctrl+Enter. Коэффициент сложности Коэффициент сложности Коэффициент сложности Коэффициент сложности Коэффициент сложности Коэффициент сложности Коэффициент сложности Коэффициент сложности Коэффициент сложности Коэффициент сложности © 2019 N+1 Интернет-издание \\xa0 Свидетельство о регистрации СМИ Эл № ФС77-67614 Использование всех текстовых материалов без изменений в некоммерческих целях разрешается со ссылкой на N+1.                          Все аудиовизуальные произведения являются собственностью своих авторов и правообладателей и используются                          только в образовательных и информационных целях. Если вы являетесь собственником того или иного произведения                          и не согласны с его размещением на нашем сайте, пожалуйста, напишите на kirill@nplus1.ru Материалы, опубликованные в разделе «Блоги», отражают позиции их авторов, которые могут не совпадать с мнением редакции. Сайт может содержать контент, не предназначенный для лиц младше 18 лет.  Политика обработки персональных данных пользователей сайта    Change privacy settings   '"
      ]
     },
     "execution_count": 37,
     "metadata": {},
     "output_type": "execute_result"
    }
   ],
   "source": [
    "df.text[0]"
   ]
  },
  {
   "cell_type": "markdown",
   "metadata": {},
   "source": [
    "Лишний текст находится после фразы 'Нашли опечатку?'. Так давайте будем разбивать строки по этой фразе с помощью метода `.split()` и брать все, что до нее (элемент с индексом 0)."
   ]
  },
  {
   "cell_type": "code",
   "execution_count": 38,
   "metadata": {},
   "outputs": [],
   "source": [
    "df['clean_text'] = [t.split('Нашли опечатку?')[0] for t in df.text]"
   ]
  },
  {
   "cell_type": "markdown",
   "metadata": {},
   "source": [
    "Осталось только заменить непонятные символы `\\xa0` на пробелы:"
   ]
  },
  {
   "cell_type": "code",
   "execution_count": 39,
   "metadata": {},
   "outputs": [],
   "source": [
    "df['clean_text'] = [t.replace(\"\\xa0\", \" \") for t in df.clean_text]"
   ]
  },
  {
   "cell_type": "code",
   "execution_count": 40,
   "metadata": {},
   "outputs": [
    {
     "data": {
      "text/plain": [
       "'В базе данных о регистрации гравитационных волн появилось новое событие-кандидат под номером S190408an. Это произошло спустя менее 10 дней после начала нового наблюдательного этапа работы американских антенн LIGO. На данный момент не было зафиксировано вспышки электромагнитного излучения из этого же направления — это значит, что наиболее вероятным объяснением является слияние черных дыр. 1 апреля начался новый сеанс поиска гравитационных волн на паре американских установок LIGO и европейской антенне Virgo. Обсерватории приступили к работе после обновления и повышения чувствительности, которое продолжалось в течение предыдущих 19 месяцев. Чувствительность аппаратуры существенно возросла, как и объем Вселенной, где слияния черных дыр породят заметное возмущение. Предварительные оптимистичные оценки показывали, что можно ожидать темпа регистрации на уровне одного события в неделю. Новое событие было зафиксировано в 18:18:02 по всемирному времени (21:18:02 по Москве) 8 апреля, спустя всего 8 дней после начала нового наблюдательного периода. Источник находился в районе созвездия Ящерицы, но точности и количества гравитационных антенн по-прежнему не хватает для определения направления с маленькими ошибками: область локализации с 90-процентной точностью занимает на небе площадь в 387 квадратных градусов. Оценочное расстояние до объекта составляет 1427 мегапарсек с ошибками порядка 350 мегапарсек. На данный момент нет информации о размере и массе черных дыр, но, судя по достаточно большому расстоянию и уверенному детектированию, о чем говорит высокое соотношение сигнал/шум, это были крупные тела, с массами порядка 30 солнечных. Обычные телескопы, такие как работающий в оптическом диапазоне МАСТЕР и улавливающий гамма-кванты Fermi также смотрели в данную область, но не смогли зафиксировать вспышки в указанное время. Антенны LIGO позволили впервые в истории зафиксировать гравитационные волны, о чем было объявлено в 2016 году, а в 2017 вручена Нобелевская премия по физике. Подробнее про регистрацию гравитационных волн можно прочитать в материалах «На гребне метрического тензора», «Точилка для квантового карандаша»и «Тоньше протона». '"
      ]
     },
     "execution_count": 40,
     "metadata": {},
     "output_type": "execute_result"
    }
   ],
   "source": [
    "df.clean_text[0]"
   ]
  },
  {
   "cell_type": "markdown",
   "metadata": {},
   "source": [
    "Всё! Сохраняем датафрейм в файл. Для разнообразия сохраним в Excel:"
   ]
  },
  {
   "cell_type": "code",
   "execution_count": 41,
   "metadata": {},
   "outputs": [],
   "source": [
    "df.to_excel('nplus-news.xlsx')"
   ]
  }
 ],
 "metadata": {
  "kernelspec": {
   "display_name": "Python 3",
   "language": "python",
   "name": "python3"
  },
  "language_info": {
   "codemirror_mode": {
    "name": "ipython",
    "version": 3
   },
   "file_extension": ".py",
   "mimetype": "text/x-python",
   "name": "python",
   "nbconvert_exporter": "python",
   "pygments_lexer": "ipython3",
   "version": "3.6.8"
  }
 },
 "nbformat": 4,
 "nbformat_minor": 2
}
