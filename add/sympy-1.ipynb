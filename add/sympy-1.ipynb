{
 "cells": [
  {
   "cell_type": "markdown",
   "metadata": {},
   "source": [
    "## How not to feel bored – 1"
   ]
  },
  {
   "cell_type": "markdown",
   "metadata": {},
   "source": [
    "### Библиотека для символьных вычислений `sympy`\n",
    "\n",
    "### Основы `sympy`\n",
    "\n",
    "Прежде, чем содержательно обсуждать логику работы и функционал библиотеки, её необходимо установить. Для этого необходимо \n",
    "\n",
    "* на Windows: зайти в Anaсonda Command Prompt и ввести в нём  `pip install sympy`\n",
    "                    \n",
    "*  на MacOS или Linux: открыть терминал и ввести в нём `pip install sympy`.\n",
    "\n",
    "Когда библиотека установлена, полезно проверить, что всё прошло, как нужно. Импортируем `sympy`:"
   ]
  },
  {
   "cell_type": "code",
   "execution_count": 1,
   "metadata": {},
   "outputs": [],
   "source": [
    "import sympy"
   ]
  },
  {
   "cell_type": "markdown",
   "metadata": {},
   "source": [
    "Теперь, когда убедились в том, что библиотека импортируется, импортируем все её функции сразу, чтобы не вводить название библиотеки каждый раз при вызове функций:"
   ]
  },
  {
   "cell_type": "code",
   "execution_count": 2,
   "metadata": {},
   "outputs": [],
   "source": [
    "from sympy import *"
   ]
  },
  {
   "cell_type": "markdown",
   "metadata": {},
   "source": [
    "Библиотека `sympy` (сокращение от Symbolic Python) – библиотека для символьных вычислений в Python. Что такое символьные вычисления? В отличие от обычных вычислений (разделить одну числовую переменную на другую, сложить два числа), в таких вычислениях мы работаем с переменными как с символами. Так, мы можем сообщить Python, что строка \"x\", преобразованная особым образом, это не обычная строка в Python (текст), а переменная в том смысле, в котором мы понимаем её в математике. То есть, мы можем записать выражение `\"2x(x+1)\"` и Python будет понимать, что можно не только поставить на место `x` любое число и посчитать результат, но и работать с такой строкой как с математическим выражением: раскрывать скобки, упрощать, находить производную, считать её значение в точке и так далее.\n",
    "\n",
    "Рассмотрим пример. Сообщим Python, чтобы далее он воспринимал `x` и `y` в выражениях как математические переменные:"
   ]
  },
  {
   "cell_type": "code",
   "execution_count": 3,
   "metadata": {},
   "outputs": [],
   "source": [
    "x, y = symbols(\"x y\")"
   ]
  },
  {
   "cell_type": "markdown",
   "metadata": {},
   "source": [
    "Посмотрим на них:"
   ]
  },
  {
   "cell_type": "code",
   "execution_count": 4,
   "metadata": {},
   "outputs": [
    {
     "data": {
      "text/plain": [
       "x"
      ]
     },
     "execution_count": 4,
     "metadata": {},
     "output_type": "execute_result"
    }
   ],
   "source": [
    "x"
   ]
  },
  {
   "cell_type": "code",
   "execution_count": 5,
   "metadata": {},
   "outputs": [
    {
     "data": {
      "text/plain": [
       "y"
      ]
     },
     "execution_count": 5,
     "metadata": {},
     "output_type": "execute_result"
    }
   ],
   "source": [
    "y"
   ]
  },
  {
   "cell_type": "markdown",
   "metadata": {},
   "source": [
    "А теперь на выражения, их содержащие:"
   ]
  },
  {
   "cell_type": "code",
   "execution_count": 6,
   "metadata": {},
   "outputs": [
    {
     "data": {
      "text/plain": [
       "2*x"
      ]
     },
     "execution_count": 6,
     "metadata": {},
     "output_type": "execute_result"
    }
   ],
   "source": [
    "2 * x"
   ]
  },
  {
   "cell_type": "code",
   "execution_count": 7,
   "metadata": {},
   "outputs": [
    {
     "data": {
      "text/plain": [
       "x**2 + y**2"
      ]
     },
     "execution_count": 7,
     "metadata": {},
     "output_type": "execute_result"
    }
   ],
   "source": [
    "x ** 2 + y ** 2"
   ]
  },
  {
   "cell_type": "markdown",
   "metadata": {},
   "source": [
    "Обратите внимание: теперь `x` и `y` вводятся без кавычек! Python и так понимает, что мы имеем в виду те `x` и `y`, которые мы зафиксировали в `symbols()`. Если бы этого не сделали, он бы относился к ним как к обычным переменным и в случае, если бы мы не присвоили им значения, выдавал бы ошибку вида `NameError: name 'x' is not defined`. \n",
    "\n",
    "Выведем выражение на экран в более красивом виде:"
   ]
  },
  {
   "cell_type": "code",
   "execution_count": 8,
   "metadata": {},
   "outputs": [
    {
     "name": "stdout",
     "output_type": "stream",
     "text": [
      " 2    2\n",
      "x  + y \n"
     ]
    }
   ],
   "source": [
    "pprint(x ** 2 + y ** 2)"
   ]
  },
  {
   "cell_type": "markdown",
   "metadata": {},
   "source": [
    "Или в ещё более красивом виде (LaTeX-style):"
   ]
  },
  {
   "cell_type": "code",
   "execution_count": 9,
   "metadata": {},
   "outputs": [],
   "source": [
    "init_printing() # для красивого вида последующих выражений"
   ]
  },
  {
   "cell_type": "code",
   "execution_count": 10,
   "metadata": {},
   "outputs": [
    {
     "data": {
      "image/png": "[encoded data removed]",
      "text/latex": [
       "$$x^{2} + y^{2}$$"
      ],
      "text/plain": [
       " 2    2\n",
       "x  + y "
      ]
     },
     "execution_count": 10,
     "metadata": {},
     "output_type": "execute_result"
    }
   ],
   "source": [
    "x ** 2 + y ** 2"
   ]
  },
  {
   "cell_type": "code",
   "execution_count": 11,
   "metadata": {},
   "outputs": [
    {
     "data": {
      "image/png": "[encoded data removed]",
      "text/latex": [
       "$$- \\frac{x}{y} + \\left(x + y\\right)^{2}$$"
      ],
      "text/plain": [
       "  x          2\n",
       "- ─ + (x + y) \n",
       "  y           "
      ]
     },
     "execution_count": 11,
     "metadata": {},
     "output_type": "execute_result"
    }
   ],
   "source": [
    "(x + y) ** 2 - x/y"
   ]
  },
  {
   "cell_type": "markdown",
   "metadata": {},
   "source": [
    "Теперь попробуем сохранить какое-нибудь математическое выражение и поподставлять в него значения `x` и `y`:"
   ]
  },
  {
   "cell_type": "code",
   "execution_count": 12,
   "metadata": {},
   "outputs": [
    {
     "data": {
      "image/png": "[encoded data removed]",
      "text/latex": [
       "$$\\left(x + y\\right)^{2}$$"
      ],
      "text/plain": [
       "       2\n",
       "(x + y) "
      ]
     },
     "execution_count": 12,
     "metadata": {},
     "output_type": "execute_result"
    }
   ],
   "source": [
    "expr = (x + y)**2\n",
    "expr"
   ]
  },
  {
   "cell_type": "code",
   "execution_count": 13,
   "metadata": {},
   "outputs": [
    {
     "data": {
      "image/png": "[encoded data removed]",
      "text/latex": [
       "$$\\left(y + 2\\right)^{2}$$"
      ],
      "text/plain": [
       "       2\n",
       "(y + 2) "
      ]
     },
     "execution_count": 13,
     "metadata": {},
     "output_type": "execute_result"
    }
   ],
   "source": [
    "expr.subs(x, 2)  # x=2"
   ]
  },
  {
   "cell_type": "code",
   "execution_count": 14,
   "metadata": {},
   "outputs": [
    {
     "data": {
      "image/png": "[encoded data removed]",
      "text/latex": [
       "$$\\left(x + 8\\right)^{2}$$"
      ],
      "text/plain": [
       "       2\n",
       "(x + 8) "
      ]
     },
     "execution_count": 14,
     "metadata": {},
     "output_type": "execute_result"
    }
   ],
   "source": [
    "expr.subs(y, 8) # y=8"
   ]
  },
  {
   "cell_type": "markdown",
   "metadata": {},
   "source": [
    "А теперь всё сразу:"
   ]
  },
  {
   "cell_type": "code",
   "execution_count": 15,
   "metadata": {},
   "outputs": [
    {
     "data": {
      "image/png": "[encoded data removed]",
      "text/latex": [
       "$$81$$"
      ],
      "text/plain": [
       "81"
      ]
     },
     "execution_count": 15,
     "metadata": {},
     "output_type": "execute_result"
    }
   ],
   "source": [
    "expr.subs({x: 4, y:5}) # x=4, y=5"
   ]
  },
  {
   "cell_type": "markdown",
   "metadata": {},
   "source": [
    "Оно ещё и посчиталось! Для вычисления значения выражения можно использовать специальный метод `evalf()` (от *evaluate function*):"
   ]
  },
  {
   "cell_type": "code",
   "execution_count": 16,
   "metadata": {},
   "outputs": [
    {
     "data": {
      "image/png": "[encoded data removed]",
      "text/latex": [
       "$$3 x^{2} + \\frac{5}{y}$$"
      ],
      "text/plain": [
       "   2   5\n",
       "3⋅x  + ─\n",
       "       y"
      ]
     },
     "execution_count": 16,
     "metadata": {},
     "output_type": "execute_result"
    }
   ],
   "source": [
    "expr2 = 3 * x ** 2 + 5 / y\n",
    "expr2"
   ]
  },
  {
   "cell_type": "code",
   "execution_count": 17,
   "metadata": {},
   "outputs": [
    {
     "data": {
      "image/png": "[encoded data removed]",
      "text/latex": [
       "$$13.25$$"
      ],
      "text/plain": [
       "13.2500000000000"
      ]
     },
     "execution_count": 17,
     "metadata": {},
     "output_type": "execute_result"
    }
   ],
   "source": [
    "expr2.evalf(subs={x:2, y:4})"
   ]
  },
  {
   "cell_type": "markdown",
   "metadata": {},
   "source": [
    "Теперь посмотрим на что-то более интересное. Посмотрим, как с помощью `sympy` можно упрощать выражения:"
   ]
  },
  {
   "cell_type": "code",
   "execution_count": 18,
   "metadata": {},
   "outputs": [],
   "source": [
    "primer1 = 3 * (x - 2 * x) + 5 * x"
   ]
  },
  {
   "cell_type": "code",
   "execution_count": 19,
   "metadata": {},
   "outputs": [
    {
     "data": {
      "image/png": "[encoded data removed]",
      "text/latex": [
       "$$2 x$$"
      ],
      "text/plain": [
       "2⋅x"
      ]
     },
     "execution_count": 19,
     "metadata": {},
     "output_type": "execute_result"
    }
   ],
   "source": [
    "primer1.simplify()  # упростили!"
   ]
  },
  {
   "cell_type": "code",
   "execution_count": 20,
   "metadata": {},
   "outputs": [
    {
     "data": {
      "image/png": "[encoded data removed]",
      "text/latex": [
       "$$2 x + 2 y$$"
      ],
      "text/plain": [
       "2⋅x + 2⋅y"
      ]
     },
     "execution_count": 20,
     "metadata": {},
     "output_type": "execute_result"
    }
   ],
   "source": [
    "primer2 = (x + y) * 2\n",
    "primer2.simplify() # тоже упростили"
   ]
  },
  {
   "cell_type": "markdown",
   "metadata": {},
   "source": [
    "Или раскрывать скобки по известным формулам:"
   ]
  },
  {
   "cell_type": "code",
   "execution_count": 21,
   "metadata": {},
   "outputs": [],
   "source": [
    "p = (x + y) ** 2"
   ]
  },
  {
   "cell_type": "code",
   "execution_count": 22,
   "metadata": {},
   "outputs": [
    {
     "data": {
      "image/png": "[encoded data removed]",
      "text/latex": [
       "$$x^{2} + 2 x y + y^{2}$$"
      ],
      "text/plain": [
       " 2            2\n",
       "x  + 2⋅x⋅y + y "
      ]
     },
     "execution_count": 22,
     "metadata": {},
     "output_type": "execute_result"
    }
   ],
   "source": [
    "p.expand()"
   ]
  },
  {
   "cell_type": "code",
   "execution_count": 23,
   "metadata": {},
   "outputs": [
    {
     "data": {
      "image/png": "[encoded data removed]",
      "text/latex": [
       "$$x^{3} + 3 x^{2} y + 3 x y^{2} + y^{3}$$"
      ],
      "text/plain": [
       " 3      2          2    3\n",
       "x  + 3⋅x ⋅y + 3⋅x⋅y  + y "
      ]
     },
     "execution_count": 23,
     "metadata": {},
     "output_type": "execute_result"
    }
   ],
   "source": [
    "q = (x + y) ** 3\n",
    "q.expand()"
   ]
  },
  {
   "cell_type": "markdown",
   "metadata": {},
   "source": [
    "И даже по тригонометрическим формулам:"
   ]
  },
  {
   "cell_type": "code",
   "execution_count": 24,
   "metadata": {},
   "outputs": [],
   "source": [
    "trig = sin(2 * x)"
   ]
  },
  {
   "cell_type": "code",
   "execution_count": 25,
   "metadata": {},
   "outputs": [
    {
     "data": {
      "image/png": "[encoded data removed]",
      "text/latex": [
       "$$2 \\sin{\\left (x \\right )} \\cos{\\left (x \\right )}$$"
      ],
      "text/plain": [
       "2⋅sin(x)⋅cos(x)"
      ]
     },
     "execution_count": 25,
     "metadata": {},
     "output_type": "execute_result"
    }
   ],
   "source": [
    "expand_trig(trig)"
   ]
  },
  {
   "cell_type": "markdown",
   "metadata": {},
   "source": [
    "### Производные и решения уравнений в `sympy`\n",
    "\n",
    "Для начала найдём простенькую производную первого порядка (первую производную) некоторой функции $f(x)$:"
   ]
  },
  {
   "cell_type": "code",
   "execution_count": 26,
   "metadata": {},
   "outputs": [
    {
     "data": {
      "image/png": "[encoded data removed]",
      "text/latex": [
       "$$x^{3} + 2 x + \\frac{1}{x}$$"
      ],
      "text/plain": [
       " 3         1\n",
       "x  + 2⋅x + ─\n",
       "           x"
      ]
     },
     "execution_count": 26,
     "metadata": {},
     "output_type": "execute_result"
    }
   ],
   "source": [
    "fx = x ** 3 + 2* x + 1/x \n",
    "fx"
   ]
  },
  {
   "cell_type": "code",
   "execution_count": 27,
   "metadata": {},
   "outputs": [
    {
     "data": {
      "image/png": "[encoded data removed]",
      "text/latex": [
       "$$3 x^{2} + 2 - \\frac{1}{x^{2}}$$"
      ],
      "text/plain": [
       "   2       1 \n",
       "3⋅x  + 2 - ──\n",
       "            2\n",
       "           x "
      ]
     },
     "execution_count": 27,
     "metadata": {},
     "output_type": "execute_result"
    }
   ],
   "source": [
    "fx.diff(x) # дифференцируем по x"
   ]
  },
  {
   "cell_type": "markdown",
   "metadata": {},
   "source": [
    "**Вопрос:** как найти значение производной в точке, если совместить `.diff()` и `.evalf()`?"
   ]
  },
  {
   "cell_type": "markdown",
   "metadata": {},
   "source": [
    "Найдем производную второго порядка (вторую производную): "
   ]
  },
  {
   "cell_type": "code",
   "execution_count": 28,
   "metadata": {},
   "outputs": [
    {
     "data": {
      "image/png": "[encoded data removed]",
      "text/latex": [
       "$$2 \\left(3 x + \\frac{1}{x^{3}}\\right)$$"
      ],
      "text/plain": [
       "  ⎛      1 ⎞\n",
       "2⋅⎜3⋅x + ──⎟\n",
       "  ⎜       3⎟\n",
       "  ⎝      x ⎠"
      ]
     },
     "execution_count": 28,
     "metadata": {},
     "output_type": "execute_result"
    }
   ],
   "source": [
    "fx.diff(x, 2) # вторая производная по x"
   ]
  },
  {
   "cell_type": "markdown",
   "metadata": {},
   "source": [
    "А теперь рассмотрим функцию от двух переменных:"
   ]
  },
  {
   "cell_type": "code",
   "execution_count": 29,
   "metadata": {},
   "outputs": [
    {
     "data": {
      "image/png": "[encoded data removed]",
      "text/latex": [
       "$$x^{y} + y^{3}$$"
      ],
      "text/plain": [
       " y    3\n",
       "x  + y "
      ]
     },
     "execution_count": 29,
     "metadata": {},
     "output_type": "execute_result"
    }
   ],
   "source": [
    "fu = x ** y + y ** 3\n",
    "fu"
   ]
  },
  {
   "cell_type": "markdown",
   "metadata": {},
   "source": [
    "И найдем частные производные по `x` и `y`:"
   ]
  },
  {
   "cell_type": "code",
   "execution_count": 30,
   "metadata": {},
   "outputs": [
    {
     "data": {
      "image/png": "[encoded data removed]",
      "text/latex": [
       "$$\\frac{x^{y} y}{x}$$"
      ],
      "text/plain": [
       " y  \n",
       "x ⋅y\n",
       "────\n",
       " x  "
      ]
     },
     "execution_count": 30,
     "metadata": {},
     "output_type": "execute_result"
    }
   ],
   "source": [
    "fu.diff(x)"
   ]
  },
  {
   "cell_type": "code",
   "execution_count": 31,
   "metadata": {},
   "outputs": [
    {
     "data": {
      "image/png": "[encoded data removed]",
      "text/latex": [
       "$$x^{y} \\log{\\left (x \\right )} + 3 y^{2}$$"
      ],
      "text/plain": [
       " y             2\n",
       "x ⋅log(x) + 3⋅y "
      ]
     },
     "execution_count": 31,
     "metadata": {},
     "output_type": "execute_result"
    }
   ],
   "source": [
    "fu.diff(y)"
   ]
  },
  {
   "cell_type": "markdown",
   "metadata": {},
   "source": [
    "Теперь вернёмся к функции от одной переменной и попробуем решить стандартную задачу: найти точки экстремума функции. Для этого нам понадобится функция `solve()`, которая позволяет решать уравнения (по умолчанию выражение приравнивается к нулю). Посмотрим, как она работает. "
   ]
  },
  {
   "cell_type": "code",
   "execution_count": 32,
   "metadata": {},
   "outputs": [
    {
     "data": {
      "image/png": "[encoded data removed]",
      "text/latex": [
       "$$\\left [ - \\frac{\\sqrt{2}}{2}, \\quad \\frac{\\sqrt{2}}{2}\\right ]$$"
      ],
      "text/plain": [
       "⎡-√2   √2⎤\n",
       "⎢────, ──⎥\n",
       "⎣ 2    2 ⎦"
      ]
     },
     "execution_count": 32,
     "metadata": {},
     "output_type": "execute_result"
    }
   ],
   "source": [
    "solve(2 * x ** 2 - 1) # 2x^2 -1"
   ]
  },
  {
   "cell_type": "markdown",
   "metadata": {},
   "source": [
    "Теперь совместим: найдём производную и приравняем её к нулю:"
   ]
  },
  {
   "cell_type": "code",
   "execution_count": 33,
   "metadata": {},
   "outputs": [
    {
     "data": {
      "image/png": "[encoded data removed]",
      "text/latex": [
       "$$\\sqrt{- x^{2} - 4 x + 16}$$"
      ],
      "text/plain": [
       "   _________________\n",
       "  ╱    2            \n",
       "╲╱  - x  - 4⋅x + 16 "
      ]
     },
     "execution_count": 33,
     "metadata": {},
     "output_type": "execute_result"
    }
   ],
   "source": [
    "f = sqrt(16 - 4 * x - x ** 2)\n",
    "f"
   ]
  },
  {
   "cell_type": "code",
   "execution_count": 34,
   "metadata": {},
   "outputs": [
    {
     "data": {
      "image/png": "[encoded data removed]",
      "text/latex": [
       "$$\\frac{- x - 2}{\\sqrt{- x^{2} - 4 x + 16}}$$"
      ],
      "text/plain": [
       "       -x - 2       \n",
       "────────────────────\n",
       "   _________________\n",
       "  ╱    2            \n",
       "╲╱  - x  - 4⋅x + 16 "
      ]
     },
     "execution_count": 34,
     "metadata": {},
     "output_type": "execute_result"
    }
   ],
   "source": [
    "dv = f.diff(x)\n",
    "dv"
   ]
  },
  {
   "cell_type": "code",
   "execution_count": 35,
   "metadata": {},
   "outputs": [
    {
     "data": {
      "image/png": "[encoded data removed]",
      "text/latex": [
       "$$\\left [ -2\\right ]$$"
      ],
      "text/plain": [
       "[-2]"
      ]
     },
     "execution_count": 35,
     "metadata": {},
     "output_type": "execute_result"
    }
   ],
   "source": [
    "solve(dv) # приравниваем результат к 0"
   ]
  },
  {
   "cell_type": "markdown",
   "metadata": {},
   "source": [
    "Так как вообще ответов может быть несколько, результат выдаётся в виде списка. Извлечём из него единственный элемент."
   ]
  },
  {
   "cell_type": "code",
   "execution_count": 36,
   "metadata": {},
   "outputs": [
    {
     "data": {
      "image/png": "[encoded data removed]",
      "text/latex": [
       "$$-2$$"
      ],
      "text/plain": [
       "-2"
      ]
     },
     "execution_count": 36,
     "metadata": {},
     "output_type": "execute_result"
    }
   ],
   "source": [
    "solve(dv)[0]"
   ]
  },
  {
   "cell_type": "markdown",
   "metadata": {},
   "source": [
    "Пока мы проверили только необходимое условие существования экстремума. Пойдём дальше и посмотрим, что у нас со второй производной (может, это просто точка перегиба):"
   ]
  },
  {
   "cell_type": "code",
   "execution_count": 37,
   "metadata": {},
   "outputs": [
    {
     "data": {
      "image/png": "[encoded data removed]",
      "text/latex": [
       "$$- \\frac{\\frac{\\left(x + 2\\right)^{2}}{- x^{2} - 4 x + 16} + 1}{\\sqrt{- x^{2} - 4 x + 16}}$$"
      ],
      "text/plain": [
       " ⎛           2       ⎞ \n",
       " ⎜    (x + 2)        ⎟ \n",
       "-⎜─────────────── + 1⎟ \n",
       " ⎜   2               ⎟ \n",
       " ⎝- x  - 4⋅x + 16    ⎠ \n",
       "───────────────────────\n",
       "     _________________ \n",
       "    ╱    2             \n",
       "  ╲╱  - x  - 4⋅x + 16  "
      ]
     },
     "execution_count": 37,
     "metadata": {},
     "output_type": "execute_result"
    }
   ],
   "source": [
    "dv2 = f.diff(x, 2)\n",
    "dv2"
   ]
  },
  {
   "cell_type": "code",
   "execution_count": 38,
   "metadata": {},
   "outputs": [
    {
     "data": {
      "image/png": "[encoded data removed]",
      "text/latex": [
       "$$-0.223606797749979$$"
      ],
      "text/plain": [
       "-0.223606797749979"
      ]
     },
     "execution_count": 38,
     "metadata": {},
     "output_type": "execute_result"
    }
   ],
   "source": [
    "dv2.evalf(subs={x:-2})"
   ]
  },
  {
   "cell_type": "markdown",
   "metadata": {},
   "source": [
    "В точке $-2$ значение второй производной меньше нуля. Полученная точка является точкой экстремума, а именно, точкой максимума функции. Конечно, в данном случае можно было обойтись и без этого, просто посмотреть на знаки значений производной функции при $x > -2$ и $x<-2$, но это вы можете проделать самостоятельно."
   ]
  }
 ],
 "metadata": {
  "kernelspec": {
   "display_name": "Python 3",
   "language": "python",
   "name": "python3"
  },
  "language_info": {
   "codemirror_mode": {
    "name": "ipython",
    "version": 3
   },
   "file_extension": ".py",
   "mimetype": "text/x-python",
   "name": "python",
   "nbconvert_exporter": "python",
   "pygments_lexer": "ipython3",
   "version": "3.6.5"
  }
 },
 "nbformat": 4,
 "nbformat_minor": 2
}
